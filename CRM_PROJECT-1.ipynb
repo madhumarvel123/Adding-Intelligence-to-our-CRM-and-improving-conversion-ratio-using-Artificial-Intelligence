{
 "cells": [
  {
   "cell_type": "markdown",
   "id": "47e16aee",
   "metadata": {},
   "source": [
    "### Problem statement\n",
    "Project Title : Adding Intelligence to our CRM and improving conversion ratio using\n",
    "Artificial Intelligence\n",
    "\n",
    "Project Description : Understanding customer patterns is one of the important activities in\n",
    "every business, based on customer pattern and customer status our next step was majorly\n",
    "planned in every business process.\n",
    "\n",
    "Task-1 : Based on customer status identify the topic whether the customer showing interest\n",
    "or not towards our product.\n",
    "\n",
    "Task-2 : Based on location, status and type of business executive identify whether the lead\n",
    "going to be converted on not.\n",
    "\n",
    "Task-3:Provide us with product demo on any web application for both task-1 and task-2\n",
    "\n",
    "\n",
    "Data Description :\n",
    "Customer Name, Location of the customer, Status whether lead converted or not converted\n",
    "and description with business executive name which explain about basic conversation\n",
    "between client and business executive.\n"
   ]
  },
  {
   "cell_type": "code",
   "execution_count": 1,
   "id": "1aa17e2c",
   "metadata": {},
   "outputs": [],
   "source": [
    "import pandas as pd \n",
    "import string \n",
    "from nltk.corpus import stopwords "
   ]
  },
  {
   "cell_type": "code",
   "execution_count": 2,
   "id": "443a05c6",
   "metadata": {},
   "outputs": [
    {
     "name": "stderr",
     "output_type": "stream",
     "text": [
      "[nltk_data] Downloading package stopwords to\n",
      "[nltk_data]     C:\\Users\\MADHU\\AppData\\Roaming\\nltk_data...\n",
      "[nltk_data]   Package stopwords is already up-to-date!\n"
     ]
    },
    {
     "data": {
      "text/plain": [
       "True"
      ]
     },
     "execution_count": 2,
     "metadata": {},
     "output_type": "execute_result"
    }
   ],
   "source": [
    "import nltk\n",
    "nltk.download('stopwords')"
   ]
  },
  {
   "cell_type": "code",
   "execution_count": 3,
   "id": "c97ba364",
   "metadata": {},
   "outputs": [
    {
     "data": {
      "text/html": [
       "<div>\n",
       "<style scoped>\n",
       "    .dataframe tbody tr th:only-of-type {\n",
       "        vertical-align: middle;\n",
       "    }\n",
       "\n",
       "    .dataframe tbody tr th {\n",
       "        vertical-align: top;\n",
       "    }\n",
       "\n",
       "    .dataframe thead th {\n",
       "        text-align: right;\n",
       "    }\n",
       "</style>\n",
       "<table border=\"1\" class=\"dataframe\">\n",
       "  <thead>\n",
       "    <tr style=\"text-align: right;\">\n",
       "      <th></th>\n",
       "      <th>Lead Name</th>\n",
       "      <th>Location</th>\n",
       "      <th>Status</th>\n",
       "      <th>Status information</th>\n",
       "    </tr>\n",
       "  </thead>\n",
       "  <tbody>\n",
       "    <tr>\n",
       "      <th>0</th>\n",
       "      <td>Raja</td>\n",
       "      <td>hyderabad</td>\n",
       "      <td>Not Converted</td>\n",
       "      <td>14/8/prema: share me details, available in evn...</td>\n",
       "    </tr>\n",
       "    <tr>\n",
       "      <th>1</th>\n",
       "      <td>Anirudh Reddy</td>\n",
       "      <td>pune</td>\n",
       "      <td>Not Converted</td>\n",
       "      <td>14/8/prema: cal me tmrw, shared details to ema...</td>\n",
       "    </tr>\n",
       "    <tr>\n",
       "      <th>2</th>\n",
       "      <td>Sapna Dewani</td>\n",
       "      <td>bangalore</td>\n",
       "      <td>Converted</td>\n",
       "      <td>16|AuG|moHan:rnr</td>\n",
       "    </tr>\n",
       "    <tr>\n",
       "      <th>3</th>\n",
       "      <td>suresh</td>\n",
       "      <td>mumbai</td>\n",
       "      <td>Not Converted</td>\n",
       "      <td>14/8/17(Surendra):i want only Server 16|AuG|mo...</td>\n",
       "    </tr>\n",
       "    <tr>\n",
       "      <th>4</th>\n",
       "      <td>Akshay Shinde</td>\n",
       "      <td>hyderabad</td>\n",
       "      <td>Not Converted</td>\n",
       "      <td>14/8/prema:rnr 16/8/prema: gave info, he said ...</td>\n",
       "    </tr>\n",
       "    <tr>\n",
       "      <th>...</th>\n",
       "      <td>...</td>\n",
       "      <td>...</td>\n",
       "      <td>...</td>\n",
       "      <td>...</td>\n",
       "    </tr>\n",
       "    <tr>\n",
       "      <th>996</th>\n",
       "      <td>vipin</td>\n",
       "      <td>bangalore</td>\n",
       "      <td>Not Converted</td>\n",
       "      <td>25/4/17(Surendra):please send me details tomor...</td>\n",
       "    </tr>\n",
       "    <tr>\n",
       "      <th>997</th>\n",
       "      <td>dheeraj</td>\n",
       "      <td>chennai</td>\n",
       "      <td>Not Converted</td>\n",
       "      <td>24/4/17(prema): need CT, but our venue is far....</td>\n",
       "    </tr>\n",
       "    <tr>\n",
       "      <th>998</th>\n",
       "      <td>kuldeep singh</td>\n",
       "      <td>bangalore</td>\n",
       "      <td>Not Converted</td>\n",
       "      <td>24/Apr/moHan:intrstd in evng batch trail perd ...</td>\n",
       "    </tr>\n",
       "    <tr>\n",
       "      <th>999</th>\n",
       "      <td>ankur sharma</td>\n",
       "      <td>bangalore</td>\n",
       "      <td>Not Converted</td>\n",
       "      <td>1/5/17(Surendra):please share me details 11/5/...</td>\n",
       "    </tr>\n",
       "    <tr>\n",
       "      <th>1000</th>\n",
       "      <td>Saugata Chakrabarti</td>\n",
       "      <td>bangalore</td>\n",
       "      <td>Not Converted</td>\n",
       "      <td>24/4/17(prema): shared details need only Cert....</td>\n",
       "    </tr>\n",
       "  </tbody>\n",
       "</table>\n",
       "<p>1001 rows × 4 columns</p>\n",
       "</div>"
      ],
      "text/plain": [
       "                Lead Name   Location        Status   \\\n",
       "0                    Raja  hyderabad  Not Converted   \n",
       "1           Anirudh Reddy       pune  Not Converted   \n",
       "2            Sapna Dewani  bangalore     Converted    \n",
       "3                  suresh     mumbai  Not Converted   \n",
       "4           Akshay Shinde  hyderabad  Not Converted   \n",
       "...                   ...        ...            ...   \n",
       "996                 vipin  bangalore  Not Converted   \n",
       "997               dheeraj    chennai  Not Converted   \n",
       "998         kuldeep singh  bangalore  Not Converted   \n",
       "999          ankur sharma  bangalore  Not Converted   \n",
       "1000  Saugata Chakrabarti  bangalore  Not Converted   \n",
       "\n",
       "                                     Status information  \n",
       "0     14/8/prema: share me details, available in evn...  \n",
       "1     14/8/prema: cal me tmrw, shared details to ema...  \n",
       "2                                      16|AuG|moHan:rnr  \n",
       "3     14/8/17(Surendra):i want only Server 16|AuG|mo...  \n",
       "4     14/8/prema:rnr 16/8/prema: gave info, he said ...  \n",
       "...                                                 ...  \n",
       "996   25/4/17(Surendra):please send me details tomor...  \n",
       "997   24/4/17(prema): need CT, but our venue is far....  \n",
       "998   24/Apr/moHan:intrstd in evng batch trail perd ...  \n",
       "999   1/5/17(Surendra):please share me details 11/5/...  \n",
       "1000  24/4/17(prema): shared details need only Cert....  \n",
       "\n",
       "[1001 rows x 4 columns]"
      ]
     },
     "execution_count": 3,
     "metadata": {},
     "output_type": "execute_result"
    }
   ],
   "source": [
    "crm = pd.read_excel('1000 leads.xlsx')\n",
    "crm"
   ]
  },
  {
   "cell_type": "code",
   "execution_count": 4,
   "id": "a8ab6123",
   "metadata": {},
   "outputs": [
    {
     "data": {
      "text/plain": [
       "24"
      ]
     },
     "execution_count": 4,
     "metadata": {},
     "output_type": "execute_result"
    }
   ],
   "source": [
    "crm['Status information'].isnull().sum()"
   ]
  },
  {
   "cell_type": "code",
   "execution_count": 5,
   "id": "d208985c",
   "metadata": {},
   "outputs": [
    {
     "data": {
      "text/plain": [
       "Index(['Lead Name', 'Location', 'Status ', 'Status information'], dtype='object')"
      ]
     },
     "execution_count": 5,
     "metadata": {},
     "output_type": "execute_result"
    }
   ],
   "source": [
    "crm.columns"
   ]
  },
  {
   "cell_type": "code",
   "execution_count": 6,
   "id": "4d429ce6",
   "metadata": {},
   "outputs": [
    {
     "data": {
      "text/plain": [
       "Lead Name              0\n",
       "Location              21\n",
       "Status                 3\n",
       "Status information    24\n",
       "dtype: int64"
      ]
     },
     "execution_count": 6,
     "metadata": {},
     "output_type": "execute_result"
    }
   ],
   "source": [
    "crm.isnull().sum()"
   ]
  },
  {
   "cell_type": "code",
   "execution_count": 7,
   "id": "1b0bc3c4",
   "metadata": {},
   "outputs": [
    {
     "data": {
      "text/plain": [
       "Not Converted    856\n",
       "Converted        124\n",
       "NOt Converted     11\n",
       "Conveted           7\n",
       "Name: Status , dtype: int64"
      ]
     },
     "execution_count": 7,
     "metadata": {},
     "output_type": "execute_result"
    }
   ],
   "source": [
    "crm[\"Status \"].value_counts()"
   ]
  },
  {
   "cell_type": "code",
   "execution_count": 8,
   "id": "87d814bb",
   "metadata": {},
   "outputs": [
    {
     "data": {
      "text/plain": [
       "array(['Not Converted', 'Converted ', 'NOt Converted', nan, 'Conveted'],\n",
       "      dtype=object)"
      ]
     },
     "execution_count": 8,
     "metadata": {},
     "output_type": "execute_result"
    }
   ],
   "source": [
    "crm[\"Status \"].unique()"
   ]
  },
  {
   "cell_type": "code",
   "execution_count": 9,
   "id": "2e4baf0d",
   "metadata": {},
   "outputs": [],
   "source": [
    "crm['Status '].replace({\"NOt Converted\": \"Not Converted\", \"Conveted\": \"Converted \"}, inplace=True)"
   ]
  },
  {
   "cell_type": "code",
   "execution_count": 10,
   "id": "576fa9e4",
   "metadata": {},
   "outputs": [
    {
     "data": {
      "text/plain": [
       "Not Converted    867\n",
       "Converted        131\n",
       "Name: Status , dtype: int64"
      ]
     },
     "execution_count": 10,
     "metadata": {},
     "output_type": "execute_result"
    }
   ],
   "source": [
    "crm['Status '].value_counts()"
   ]
  },
  {
   "cell_type": "code",
   "execution_count": 11,
   "id": "5e0448ca",
   "metadata": {},
   "outputs": [
    {
     "data": {
      "text/plain": [
       "array(['hyderabad', 'pune', 'bangalore', 'mumbai', 'delhi', 'australia',\n",
       "       'nagpur', 'madurai', 'mysore', 'chennai', nan, 'kerala', 'hubli',\n",
       "       'guntur', 'Bangalore', 'Hyderabad', 'jalandhar', 'tiruttani',\n",
       "       'USA', 'Faridabad', 'Online', 'gurgoan', 'kochi', 'noida',\n",
       "       'ahmedabad', 'khammam', 'Chennai', 'vishakapatnam', 'solapur',\n",
       "       'Mumbai', 'nasik', 'Thane', 'UAE', 'Aurangabad', 'rayagada',\n",
       "       'bilgi', 'gurgaon', 'Rajamundry', 'kadapa', 'aurangabad',\n",
       "       'kolkatta', 'vijayawada', 'Vijayawada', 'Pune', 'India', 'india',\n",
       "       'meerut', 'jaipur', 'coimbatore', 'gujarat', 'ghazibad', 'ongole',\n",
       "       'Nepal', 'Gurgaon', 'bihar', 'thane'], dtype=object)"
      ]
     },
     "execution_count": 11,
     "metadata": {},
     "output_type": "execute_result"
    }
   ],
   "source": [
    "crm[\"Location\"].unique()"
   ]
  },
  {
   "cell_type": "code",
   "execution_count": 12,
   "id": "08c7a9fe",
   "metadata": {},
   "outputs": [
    {
     "data": {
      "text/plain": [
       "0    bangalore\n",
       "Name: Location, dtype: object"
      ]
     },
     "execution_count": 12,
     "metadata": {},
     "output_type": "execute_result"
    }
   ],
   "source": [
    "crm[\"Location\"].mode()"
   ]
  },
  {
   "cell_type": "code",
   "execution_count": 24,
   "id": "4aa257a3",
   "metadata": {},
   "outputs": [
    {
     "data": {
      "image/png": "[encoded data removed]",
      "text/plain": [
       "<Figure size 1350x450 with 1 Axes>"
      ]
     },
     "metadata": {},
     "output_type": "display_data"
    }
   ],
   "source": [
    "import matplotlib.pyplot as plt\n",
    "import seaborn as sns\n",
    "plt.figure(figsize=(15,5), dpi=90)\n",
    "sns.countplot(data=crm, x=\"Location\")\n",
    "plt.xticks(rotation=\"vertical\")\n",
    "plt.show()"
   ]
  },
  {
   "cell_type": "code",
   "execution_count": 13,
   "id": "65d4abeb",
   "metadata": {},
   "outputs": [],
   "source": [
    "crm.dropna(inplace=True)"
   ]
  },
  {
   "cell_type": "code",
   "execution_count": 14,
   "id": "b07fb285",
   "metadata": {},
   "outputs": [
    {
     "data": {
      "text/plain": [
       "Lead Name             0\n",
       "Location              0\n",
       "Status                0\n",
       "Status information    0\n",
       "dtype: int64"
      ]
     },
     "execution_count": 14,
     "metadata": {},
     "output_type": "execute_result"
    }
   ],
   "source": [
    "crm.isnull().sum()"
   ]
  },
  {
   "cell_type": "code",
   "execution_count": 15,
   "id": "58bf10b0",
   "metadata": {},
   "outputs": [],
   "source": [
    "# def message_text_process(mess):\n",
    "#     no_punctuation = [char for char in mess if char not in string.punctuation]\n",
    "#     no_punctuation = ''.join(no_punctuation)\n",
    "#     return [word for word in no_punctuation.split() if word.lower() \n",
    "#             not in stopwords.words('english')]"
   ]
  },
  {
   "cell_type": "code",
   "execution_count": 16,
   "id": "7667bba9",
   "metadata": {
    "scrolled": false
   },
   "outputs": [],
   "source": [
    "#crm['Status information'].head(5).apply(message_text_process)"
   ]
  },
  {
   "cell_type": "code",
   "execution_count": 17,
   "id": "5b50cc82",
   "metadata": {
    "scrolled": true
   },
   "outputs": [
    {
     "name": "stdout",
     "output_type": "stream",
     "text": [
      "14/8/prema: share me details, available in evng 18/8/prema: postponed the plans for training currently 9/11/prema: not interested now\n",
      "14/8/prema: cal me tmrw, shared details to email 16/8/prema: share details to email, will check n revert 18/8/prema: received your email, i'm looking for ASQ certification\n",
      "16|AuG|moHan:rnr\n",
      "14/8/17(Surendra):i want only Server 16|AuG|moHan:cal busy 17|AuG|moHan:reg for server\n",
      "14/8/prema:rnr 16/8/prema: gave info, he said he will revert in 1hr 30/8/prema: planning for next month, share details\n"
     ]
    }
   ],
   "source": [
    "for i in crm[\"Status information\"][:5]:\n",
    "  print(i)"
   ]
  },
  {
   "cell_type": "code",
   "execution_count": 18,
   "id": "feddd5be",
   "metadata": {},
   "outputs": [
    {
     "name": "stderr",
     "output_type": "stream",
     "text": [
      "[nltk_data] Error loading Wordnet: Package 'Wordnet' not found in\n",
      "[nltk_data]     index\n",
      "[nltk_data] Downloading package omw-1.4 to\n",
      "[nltk_data]     C:\\Users\\MADHU\\AppData\\Roaming\\nltk_data...\n",
      "[nltk_data]   Package omw-1.4 is already up-to-date!\n"
     ]
    },
    {
     "data": {
      "text/plain": [
       "True"
      ]
     },
     "execution_count": 18,
     "metadata": {},
     "output_type": "execute_result"
    }
   ],
   "source": [
    "import nltk\n",
    "nltk.download('Wordnet')\n",
    "nltk.download('omw-1.4')"
   ]
  },
  {
   "cell_type": "code",
   "execution_count": 26,
   "id": "09921a22",
   "metadata": {},
   "outputs": [],
   "source": [
    "pun_word = string.punctuation\n",
    "stop_words = stopwords.words(\"english\")"
   ]
  },
  {
   "cell_type": "code",
   "execution_count": null,
   "id": "cb30653f",
   "metadata": {},
   "outputs": [],
   "source": []
  },
  {
   "cell_type": "code",
   "execution_count": 27,
   "id": "2f55e6ec",
   "metadata": {},
   "outputs": [],
   "source": [
    "#lemmatization\n",
    "import re\n",
    "from nltk.stem import WordNetLemmatizer\n",
    "lamma = WordNetLemmatizer()\n",
    "def preprocessing(txt):\n",
    "  x = txt.lower()\n",
    "  x = re.sub(\"\\d+[/?]\\w+[/?]\\w+:|\\d+[|]\\w+[|]\\w+:|\\d+[/]\\w+[/]\\w+[(]\\w+[)]:?\", \"\", x)\n",
    "  x = re.sub(\"int[a-z]+d$\", \"interested\", x)\n",
    "  x = re.sub(\"[\\d+-?,'.]\", \"\", x)\n",
    "  x = [i for i in nltk.word_tokenize(x) if i not in stop_words and len(i)>1 and i not in pun_word] \n",
    "  x = [lamma.lemmatize(i) for i in x] \n",
    "  return \" \".join(x)"
   ]
  },
  {
   "cell_type": "code",
   "execution_count": 28,
   "id": "628abe37",
   "metadata": {},
   "outputs": [
    {
     "name": "stdout",
     "output_type": "stream",
     "text": [
      "share detail available evng postponed plan training currently interested\n",
      "cal tmrw shared detail email share detail email check revert received email im looking asq certification\n",
      "rnr\n",
      "want server cal busy reg server\n",
      "rnr gave info said revert hr planning next month share detail\n"
     ]
    }
   ],
   "source": [
    "for i in crm[\"Status information\"][:5]:\n",
    "      print(preprocessing(i))\n",
    "     "
   ]
  },
  {
   "cell_type": "code",
   "execution_count": 29,
   "id": "bf046649",
   "metadata": {},
   "outputs": [],
   "source": [
    "crm['df'] = crm['Status information'].apply(preprocessing)"
   ]
  },
  {
   "cell_type": "code",
   "execution_count": 30,
   "id": "34911ebf",
   "metadata": {},
   "outputs": [
    {
     "data": {
      "text/plain": [
       "0       share detail available evng postponed plan tra...\n",
       "1       cal tmrw shared detail email share detail emai...\n",
       "2                                                     rnr\n",
       "3                         want server cal busy reg server\n",
       "4       rnr gave info said revert hr planning next mon...\n",
       "                              ...                        \n",
       "996     please send detail tomorrow afternoon pm discu...\n",
       "997     need ct venue far shared detail d want venue n...\n",
       "998          intrstd evng batch trail perd alrdy reg exlr\n",
       "999                      please share detail already done\n",
       "1000    shared detail need cert need call pm meeting c...\n",
       "Name: df, Length: 956, dtype: object"
      ]
     },
     "execution_count": 30,
     "metadata": {},
     "output_type": "execute_result"
    }
   ],
   "source": [
    "crm['df']"
   ]
  },
  {
   "cell_type": "code",
   "execution_count": 31,
   "id": "2216debb",
   "metadata": {},
   "outputs": [],
   "source": [
    "from sklearn.preprocessing import LabelEncoder\n",
    "le=LabelEncoder()"
   ]
  },
  {
   "cell_type": "code",
   "execution_count": 32,
   "id": "89bb53e7",
   "metadata": {},
   "outputs": [],
   "source": [
    "crm['Location']=le.fit_transform(crm['Location'])"
   ]
  },
  {
   "cell_type": "code",
   "execution_count": 33,
   "id": "6eba1e47",
   "metadata": {},
   "outputs": [],
   "source": [
    "crm[\"Status \"].replace({\"Not Converted\": 1, \"Converted \": 0}, inplace=True)"
   ]
  },
  {
   "cell_type": "code",
   "execution_count": 34,
   "id": "beb5a6fe",
   "metadata": {},
   "outputs": [
    {
     "data": {
      "text/html": [
       "<div>\n",
       "<style scoped>\n",
       "    .dataframe tbody tr th:only-of-type {\n",
       "        vertical-align: middle;\n",
       "    }\n",
       "\n",
       "    .dataframe tbody tr th {\n",
       "        vertical-align: top;\n",
       "    }\n",
       "\n",
       "    .dataframe thead th {\n",
       "        text-align: right;\n",
       "    }\n",
       "</style>\n",
       "<table border=\"1\" class=\"dataframe\">\n",
       "  <thead>\n",
       "    <tr style=\"text-align: right;\">\n",
       "      <th></th>\n",
       "      <th>Lead Name</th>\n",
       "      <th>Location</th>\n",
       "      <th>Status</th>\n",
       "      <th>Status information</th>\n",
       "      <th>df</th>\n",
       "    </tr>\n",
       "  </thead>\n",
       "  <tbody>\n",
       "    <tr>\n",
       "      <th>0</th>\n",
       "      <td>Raja</td>\n",
       "      <td>31</td>\n",
       "      <td>1</td>\n",
       "      <td>14/8/prema: share me details, available in evn...</td>\n",
       "      <td>share detail available evng postponed plan tra...</td>\n",
       "    </tr>\n",
       "    <tr>\n",
       "      <th>1</th>\n",
       "      <td>Anirudh Reddy</td>\n",
       "      <td>48</td>\n",
       "      <td>1</td>\n",
       "      <td>14/8/prema: cal me tmrw, shared details to ema...</td>\n",
       "      <td>cal tmrw shared detail email share detail emai...</td>\n",
       "    </tr>\n",
       "    <tr>\n",
       "      <th>2</th>\n",
       "      <td>Sapna Dewani</td>\n",
       "      <td>19</td>\n",
       "      <td>0</td>\n",
       "      <td>16|AuG|moHan:rnr</td>\n",
       "      <td>rnr</td>\n",
       "    </tr>\n",
       "    <tr>\n",
       "      <th>3</th>\n",
       "      <td>suresh</td>\n",
       "      <td>42</td>\n",
       "      <td>1</td>\n",
       "      <td>14/8/17(Surendra):i want only Server 16|AuG|mo...</td>\n",
       "      <td>want server cal busy reg server</td>\n",
       "    </tr>\n",
       "    <tr>\n",
       "      <th>4</th>\n",
       "      <td>Akshay Shinde</td>\n",
       "      <td>31</td>\n",
       "      <td>1</td>\n",
       "      <td>14/8/prema:rnr 16/8/prema: gave info, he said ...</td>\n",
       "      <td>rnr gave info said revert hr planning next mon...</td>\n",
       "    </tr>\n",
       "    <tr>\n",
       "      <th>...</th>\n",
       "      <td>...</td>\n",
       "      <td>...</td>\n",
       "      <td>...</td>\n",
       "      <td>...</td>\n",
       "      <td>...</td>\n",
       "    </tr>\n",
       "    <tr>\n",
       "      <th>996</th>\n",
       "      <td>vipin</td>\n",
       "      <td>19</td>\n",
       "      <td>1</td>\n",
       "      <td>25/4/17(Surendra):please send me details tomor...</td>\n",
       "      <td>please send detail tomorrow afternoon pm discu...</td>\n",
       "    </tr>\n",
       "    <tr>\n",
       "      <th>997</th>\n",
       "      <td>dheeraj</td>\n",
       "      <td>22</td>\n",
       "      <td>1</td>\n",
       "      <td>24/4/17(prema): need CT, but our venue is far....</td>\n",
       "      <td>need ct venue far shared detail d want venue n...</td>\n",
       "    </tr>\n",
       "    <tr>\n",
       "      <th>998</th>\n",
       "      <td>kuldeep singh</td>\n",
       "      <td>19</td>\n",
       "      <td>1</td>\n",
       "      <td>24/Apr/moHan:intrstd in evng batch trail perd ...</td>\n",
       "      <td>intrstd evng batch trail perd alrdy reg exlr</td>\n",
       "    </tr>\n",
       "    <tr>\n",
       "      <th>999</th>\n",
       "      <td>ankur sharma</td>\n",
       "      <td>19</td>\n",
       "      <td>1</td>\n",
       "      <td>1/5/17(Surendra):please share me details 11/5/...</td>\n",
       "      <td>please share detail already done</td>\n",
       "    </tr>\n",
       "    <tr>\n",
       "      <th>1000</th>\n",
       "      <td>Saugata Chakrabarti</td>\n",
       "      <td>19</td>\n",
       "      <td>1</td>\n",
       "      <td>24/4/17(prema): shared details need only Cert....</td>\n",
       "      <td>shared detail need cert need call pm meeting c...</td>\n",
       "    </tr>\n",
       "  </tbody>\n",
       "</table>\n",
       "<p>956 rows × 5 columns</p>\n",
       "</div>"
      ],
      "text/plain": [
       "                Lead Name  Location  Status   \\\n",
       "0                    Raja        31        1   \n",
       "1           Anirudh Reddy        48        1   \n",
       "2            Sapna Dewani        19        0   \n",
       "3                  suresh        42        1   \n",
       "4           Akshay Shinde        31        1   \n",
       "...                   ...       ...      ...   \n",
       "996                 vipin        19        1   \n",
       "997               dheeraj        22        1   \n",
       "998         kuldeep singh        19        1   \n",
       "999          ankur sharma        19        1   \n",
       "1000  Saugata Chakrabarti        19        1   \n",
       "\n",
       "                                     Status information  \\\n",
       "0     14/8/prema: share me details, available in evn...   \n",
       "1     14/8/prema: cal me tmrw, shared details to ema...   \n",
       "2                                      16|AuG|moHan:rnr   \n",
       "3     14/8/17(Surendra):i want only Server 16|AuG|mo...   \n",
       "4     14/8/prema:rnr 16/8/prema: gave info, he said ...   \n",
       "...                                                 ...   \n",
       "996   25/4/17(Surendra):please send me details tomor...   \n",
       "997   24/4/17(prema): need CT, but our venue is far....   \n",
       "998   24/Apr/moHan:intrstd in evng batch trail perd ...   \n",
       "999   1/5/17(Surendra):please share me details 11/5/...   \n",
       "1000  24/4/17(prema): shared details need only Cert....   \n",
       "\n",
       "                                                     df  \n",
       "0     share detail available evng postponed plan tra...  \n",
       "1     cal tmrw shared detail email share detail emai...  \n",
       "2                                                   rnr  \n",
       "3                       want server cal busy reg server  \n",
       "4     rnr gave info said revert hr planning next mon...  \n",
       "...                                                 ...  \n",
       "996   please send detail tomorrow afternoon pm discu...  \n",
       "997   need ct venue far shared detail d want venue n...  \n",
       "998        intrstd evng batch trail perd alrdy reg exlr  \n",
       "999                    please share detail already done  \n",
       "1000  shared detail need cert need call pm meeting c...  \n",
       "\n",
       "[956 rows x 5 columns]"
      ]
     },
     "execution_count": 34,
     "metadata": {},
     "output_type": "execute_result"
    }
   ],
   "source": [
    "crm"
   ]
  },
  {
   "cell_type": "code",
   "execution_count": 35,
   "id": "72d7418b",
   "metadata": {},
   "outputs": [],
   "source": [
    "crm = crm.reset_index(drop =True)"
   ]
  },
  {
   "cell_type": "code",
   "execution_count": 36,
   "id": "54b97051",
   "metadata": {},
   "outputs": [
    {
     "data": {
      "text/html": [
       "<div>\n",
       "<style scoped>\n",
       "    .dataframe tbody tr th:only-of-type {\n",
       "        vertical-align: middle;\n",
       "    }\n",
       "\n",
       "    .dataframe tbody tr th {\n",
       "        vertical-align: top;\n",
       "    }\n",
       "\n",
       "    .dataframe thead th {\n",
       "        text-align: right;\n",
       "    }\n",
       "</style>\n",
       "<table border=\"1\" class=\"dataframe\">\n",
       "  <thead>\n",
       "    <tr style=\"text-align: right;\">\n",
       "      <th></th>\n",
       "      <th>Lead Name</th>\n",
       "      <th>Location</th>\n",
       "      <th>Status</th>\n",
       "      <th>Status information</th>\n",
       "      <th>df</th>\n",
       "    </tr>\n",
       "  </thead>\n",
       "  <tbody>\n",
       "    <tr>\n",
       "      <th>0</th>\n",
       "      <td>Raja</td>\n",
       "      <td>31</td>\n",
       "      <td>1</td>\n",
       "      <td>14/8/prema: share me details, available in evn...</td>\n",
       "      <td>share detail available evng postponed plan tra...</td>\n",
       "    </tr>\n",
       "    <tr>\n",
       "      <th>1</th>\n",
       "      <td>Anirudh Reddy</td>\n",
       "      <td>48</td>\n",
       "      <td>1</td>\n",
       "      <td>14/8/prema: cal me tmrw, shared details to ema...</td>\n",
       "      <td>cal tmrw shared detail email share detail emai...</td>\n",
       "    </tr>\n",
       "    <tr>\n",
       "      <th>2</th>\n",
       "      <td>Sapna Dewani</td>\n",
       "      <td>19</td>\n",
       "      <td>0</td>\n",
       "      <td>16|AuG|moHan:rnr</td>\n",
       "      <td>rnr</td>\n",
       "    </tr>\n",
       "    <tr>\n",
       "      <th>3</th>\n",
       "      <td>suresh</td>\n",
       "      <td>42</td>\n",
       "      <td>1</td>\n",
       "      <td>14/8/17(Surendra):i want only Server 16|AuG|mo...</td>\n",
       "      <td>want server cal busy reg server</td>\n",
       "    </tr>\n",
       "    <tr>\n",
       "      <th>4</th>\n",
       "      <td>Akshay Shinde</td>\n",
       "      <td>31</td>\n",
       "      <td>1</td>\n",
       "      <td>14/8/prema:rnr 16/8/prema: gave info, he said ...</td>\n",
       "      <td>rnr gave info said revert hr planning next mon...</td>\n",
       "    </tr>\n",
       "    <tr>\n",
       "      <th>...</th>\n",
       "      <td>...</td>\n",
       "      <td>...</td>\n",
       "      <td>...</td>\n",
       "      <td>...</td>\n",
       "      <td>...</td>\n",
       "    </tr>\n",
       "    <tr>\n",
       "      <th>951</th>\n",
       "      <td>vipin</td>\n",
       "      <td>19</td>\n",
       "      <td>1</td>\n",
       "      <td>25/4/17(Surendra):please send me details tomor...</td>\n",
       "      <td>please send detail tomorrow afternoon pm discu...</td>\n",
       "    </tr>\n",
       "    <tr>\n",
       "      <th>952</th>\n",
       "      <td>dheeraj</td>\n",
       "      <td>22</td>\n",
       "      <td>1</td>\n",
       "      <td>24/4/17(prema): need CT, but our venue is far....</td>\n",
       "      <td>need ct venue far shared detail d want venue n...</td>\n",
       "    </tr>\n",
       "    <tr>\n",
       "      <th>953</th>\n",
       "      <td>kuldeep singh</td>\n",
       "      <td>19</td>\n",
       "      <td>1</td>\n",
       "      <td>24/Apr/moHan:intrstd in evng batch trail perd ...</td>\n",
       "      <td>intrstd evng batch trail perd alrdy reg exlr</td>\n",
       "    </tr>\n",
       "    <tr>\n",
       "      <th>954</th>\n",
       "      <td>ankur sharma</td>\n",
       "      <td>19</td>\n",
       "      <td>1</td>\n",
       "      <td>1/5/17(Surendra):please share me details 11/5/...</td>\n",
       "      <td>please share detail already done</td>\n",
       "    </tr>\n",
       "    <tr>\n",
       "      <th>955</th>\n",
       "      <td>Saugata Chakrabarti</td>\n",
       "      <td>19</td>\n",
       "      <td>1</td>\n",
       "      <td>24/4/17(prema): shared details need only Cert....</td>\n",
       "      <td>shared detail need cert need call pm meeting c...</td>\n",
       "    </tr>\n",
       "  </tbody>\n",
       "</table>\n",
       "<p>956 rows × 5 columns</p>\n",
       "</div>"
      ],
      "text/plain": [
       "               Lead Name  Location  Status   \\\n",
       "0                   Raja        31        1   \n",
       "1          Anirudh Reddy        48        1   \n",
       "2           Sapna Dewani        19        0   \n",
       "3                 suresh        42        1   \n",
       "4          Akshay Shinde        31        1   \n",
       "..                   ...       ...      ...   \n",
       "951                vipin        19        1   \n",
       "952              dheeraj        22        1   \n",
       "953        kuldeep singh        19        1   \n",
       "954         ankur sharma        19        1   \n",
       "955  Saugata Chakrabarti        19        1   \n",
       "\n",
       "                                    Status information  \\\n",
       "0    14/8/prema: share me details, available in evn...   \n",
       "1    14/8/prema: cal me tmrw, shared details to ema...   \n",
       "2                                     16|AuG|moHan:rnr   \n",
       "3    14/8/17(Surendra):i want only Server 16|AuG|mo...   \n",
       "4    14/8/prema:rnr 16/8/prema: gave info, he said ...   \n",
       "..                                                 ...   \n",
       "951  25/4/17(Surendra):please send me details tomor...   \n",
       "952  24/4/17(prema): need CT, but our venue is far....   \n",
       "953  24/Apr/moHan:intrstd in evng batch trail perd ...   \n",
       "954  1/5/17(Surendra):please share me details 11/5/...   \n",
       "955  24/4/17(prema): shared details need only Cert....   \n",
       "\n",
       "                                                    df  \n",
       "0    share detail available evng postponed plan tra...  \n",
       "1    cal tmrw shared detail email share detail emai...  \n",
       "2                                                  rnr  \n",
       "3                      want server cal busy reg server  \n",
       "4    rnr gave info said revert hr planning next mon...  \n",
       "..                                                 ...  \n",
       "951  please send detail tomorrow afternoon pm discu...  \n",
       "952  need ct venue far shared detail d want venue n...  \n",
       "953       intrstd evng batch trail perd alrdy reg exlr  \n",
       "954                   please share detail already done  \n",
       "955  shared detail need cert need call pm meeting c...  \n",
       "\n",
       "[956 rows x 5 columns]"
      ]
     },
     "execution_count": 36,
     "metadata": {},
     "output_type": "execute_result"
    }
   ],
   "source": [
    "crm"
   ]
  },
  {
   "cell_type": "markdown",
   "id": "68b607b2",
   "metadata": {},
   "source": [
    "### Imbalance data work"
   ]
  },
  {
   "cell_type": "code",
   "execution_count": 37,
   "id": "5cb5ea44",
   "metadata": {
    "scrolled": true
   },
   "outputs": [
    {
     "data": {
      "text/plain": [
       "1    829\n",
       "0    127\n",
       "Name: Status , dtype: int64"
      ]
     },
     "execution_count": 37,
     "metadata": {},
     "output_type": "execute_result"
    }
   ],
   "source": [
    "crm['Status '].value_counts()"
   ]
  },
  {
   "cell_type": "code",
   "execution_count": 38,
   "id": "6e5a4fed",
   "metadata": {},
   "outputs": [],
   "source": [
    "from sklearn.utils import resample\n",
    "crm1=crm[crm[\"Status \"]==1]\n",
    "crm2=crm[crm[\"Status \"]==0]\n",
    "crm2_upsample = resample(crm2, replace=True,n_samples=600, random_state=10)\n",
    "crm_upsample= pd.concat([crm1,crm2_upsample],axis=0)"
   ]
  },
  {
   "cell_type": "code",
   "execution_count": 39,
   "id": "05dc1354",
   "metadata": {},
   "outputs": [
    {
     "data": {
      "text/plain": [
       "1    829\n",
       "0    600\n",
       "Name: Status , dtype: int64"
      ]
     },
     "execution_count": 39,
     "metadata": {},
     "output_type": "execute_result"
    }
   ],
   "source": [
    "crm_upsample['Status '].value_counts()"
   ]
  },
  {
   "cell_type": "code",
   "execution_count": 40,
   "id": "b3a799e3",
   "metadata": {},
   "outputs": [
    {
     "data": {
      "text/html": [
       "<div>\n",
       "<style scoped>\n",
       "    .dataframe tbody tr th:only-of-type {\n",
       "        vertical-align: middle;\n",
       "    }\n",
       "\n",
       "    .dataframe tbody tr th {\n",
       "        vertical-align: top;\n",
       "    }\n",
       "\n",
       "    .dataframe thead th {\n",
       "        text-align: right;\n",
       "    }\n",
       "</style>\n",
       "<table border=\"1\" class=\"dataframe\">\n",
       "  <thead>\n",
       "    <tr style=\"text-align: right;\">\n",
       "      <th></th>\n",
       "      <th>Lead Name</th>\n",
       "      <th>Location</th>\n",
       "      <th>Status</th>\n",
       "      <th>Status information</th>\n",
       "      <th>df</th>\n",
       "    </tr>\n",
       "  </thead>\n",
       "  <tbody>\n",
       "    <tr>\n",
       "      <th>0</th>\n",
       "      <td>Raja</td>\n",
       "      <td>31</td>\n",
       "      <td>1</td>\n",
       "      <td>14/8/prema: share me details, available in evn...</td>\n",
       "      <td>share detail available evng postponed plan tra...</td>\n",
       "    </tr>\n",
       "    <tr>\n",
       "      <th>1</th>\n",
       "      <td>Anirudh Reddy</td>\n",
       "      <td>48</td>\n",
       "      <td>1</td>\n",
       "      <td>14/8/prema: cal me tmrw, shared details to ema...</td>\n",
       "      <td>cal tmrw shared detail email share detail emai...</td>\n",
       "    </tr>\n",
       "    <tr>\n",
       "      <th>3</th>\n",
       "      <td>suresh</td>\n",
       "      <td>42</td>\n",
       "      <td>1</td>\n",
       "      <td>14/8/17(Surendra):i want only Server 16|AuG|mo...</td>\n",
       "      <td>want server cal busy reg server</td>\n",
       "    </tr>\n",
       "    <tr>\n",
       "      <th>4</th>\n",
       "      <td>Akshay Shinde</td>\n",
       "      <td>31</td>\n",
       "      <td>1</td>\n",
       "      <td>14/8/prema:rnr 16/8/prema: gave info, he said ...</td>\n",
       "      <td>rnr gave info said revert hr planning next mon...</td>\n",
       "    </tr>\n",
       "    <tr>\n",
       "      <th>5</th>\n",
       "      <td>Karthik</td>\n",
       "      <td>42</td>\n",
       "      <td>1</td>\n",
       "      <td>12/8/17(Surendra):i will check demo(attended d...</td>\n",
       "      <td>check demo attended demo get back think respon...</td>\n",
       "    </tr>\n",
       "    <tr>\n",
       "      <th>...</th>\n",
       "      <td>...</td>\n",
       "      <td>...</td>\n",
       "      <td>...</td>\n",
       "      <td>...</td>\n",
       "      <td>...</td>\n",
       "    </tr>\n",
       "    <tr>\n",
       "      <th>345</th>\n",
       "      <td>Karan</td>\n",
       "      <td>19</td>\n",
       "      <td>0</td>\n",
       "      <td>7/7/17(soma):Details Shared 11/7/17(soma):Demo...</td>\n",
       "      <td>detail shared demo session shared rnr said con...</td>\n",
       "    </tr>\n",
       "    <tr>\n",
       "      <th>595</th>\n",
       "      <td>Mahmeen</td>\n",
       "      <td>48</td>\n",
       "      <td>0</td>\n",
       "      <td>7/6/17(gowtham)details shrd check it n cnfrm 1...</td>\n",
       "      <td>detail shrd check cnfrm rnr cut call cut call ...</td>\n",
       "    </tr>\n",
       "    <tr>\n",
       "      <th>338</th>\n",
       "      <td>Prem</td>\n",
       "      <td>31</td>\n",
       "      <td>0</td>\n",
       "      <td>7/7/17(Surendra):RNR 8/7/17(Surendra):call me ...</td>\n",
       "      <td>rnr call tomorrow share detail rnr rnr call co...</td>\n",
       "    </tr>\n",
       "    <tr>\n",
       "      <th>33</th>\n",
       "      <td>Pooja TThuse</td>\n",
       "      <td>19</td>\n",
       "      <td>0</td>\n",
       "      <td>8/8/17(soma):Detaills Shared 9/8/17(soma):she ...</td>\n",
       "      <td>detaills shared said next month</td>\n",
       "    </tr>\n",
       "    <tr>\n",
       "      <th>307</th>\n",
       "      <td>Manish Bhaisare</td>\n",
       "      <td>31</td>\n",
       "      <td>0</td>\n",
       "      <td>10/7/17(Surendra):busy 11/7/17(Surendra):busy ...</td>\n",
       "      <td>busy busy frnds also interested share detail g...</td>\n",
       "    </tr>\n",
       "  </tbody>\n",
       "</table>\n",
       "<p>1429 rows × 5 columns</p>\n",
       "</div>"
      ],
      "text/plain": [
       "           Lead Name  Location  Status   \\\n",
       "0               Raja        31        1   \n",
       "1      Anirudh Reddy        48        1   \n",
       "3             suresh        42        1   \n",
       "4      Akshay Shinde        31        1   \n",
       "5            Karthik        42        1   \n",
       "..               ...       ...      ...   \n",
       "345            Karan        19        0   \n",
       "595          Mahmeen        48        0   \n",
       "338             Prem        31        0   \n",
       "33      Pooja TThuse        19        0   \n",
       "307  Manish Bhaisare        31        0   \n",
       "\n",
       "                                    Status information  \\\n",
       "0    14/8/prema: share me details, available in evn...   \n",
       "1    14/8/prema: cal me tmrw, shared details to ema...   \n",
       "3    14/8/17(Surendra):i want only Server 16|AuG|mo...   \n",
       "4    14/8/prema:rnr 16/8/prema: gave info, he said ...   \n",
       "5    12/8/17(Surendra):i will check demo(attended d...   \n",
       "..                                                 ...   \n",
       "345  7/7/17(soma):Details Shared 11/7/17(soma):Demo...   \n",
       "595  7/6/17(gowtham)details shrd check it n cnfrm 1...   \n",
       "338  7/7/17(Surendra):RNR 8/7/17(Surendra):call me ...   \n",
       "33   8/8/17(soma):Detaills Shared 9/8/17(soma):she ...   \n",
       "307  10/7/17(Surendra):busy 11/7/17(Surendra):busy ...   \n",
       "\n",
       "                                                    df  \n",
       "0    share detail available evng postponed plan tra...  \n",
       "1    cal tmrw shared detail email share detail emai...  \n",
       "3                      want server cal busy reg server  \n",
       "4    rnr gave info said revert hr planning next mon...  \n",
       "5    check demo attended demo get back think respon...  \n",
       "..                                                 ...  \n",
       "345  detail shared demo session shared rnr said con...  \n",
       "595  detail shrd check cnfrm rnr cut call cut call ...  \n",
       "338  rnr call tomorrow share detail rnr rnr call co...  \n",
       "33                     detaills shared said next month  \n",
       "307  busy busy frnds also interested share detail g...  \n",
       "\n",
       "[1429 rows x 5 columns]"
      ]
     },
     "execution_count": 40,
     "metadata": {},
     "output_type": "execute_result"
    }
   ],
   "source": [
    "crm_upsample"
   ]
  },
  {
   "cell_type": "code",
   "execution_count": 55,
   "id": "8659bf29",
   "metadata": {},
   "outputs": [
    {
     "name": "stdout",
     "output_type": "stream",
     "text": [
      "Collecting wordcloud\n",
      "  Downloading wordcloud-1.9.2-cp39-cp39-win_amd64.whl (153 kB)\n",
      "     ------------------------------------ 153.3/153.3 kB 286.1 kB/s eta 0:00:00\n",
      "Requirement already satisfied: numpy>=1.6.1 in c:\\users\\madhu\\appdata\\roaming\\python\\python39\\site-packages (from wordcloud) (1.24.3)\n",
      "Requirement already satisfied: pillow in e:\\anaconda_python_programfiles\\lib\\site-packages (from wordcloud) (9.3.0)\n",
      "Requirement already satisfied: matplotlib in e:\\anaconda_python_programfiles\\lib\\site-packages (from wordcloud) (3.5.2)\n",
      "Requirement already satisfied: cycler>=0.10 in e:\\anaconda_python_programfiles\\lib\\site-packages (from matplotlib->wordcloud) (0.11.0)\n",
      "Requirement already satisfied: fonttools>=4.22.0 in e:\\anaconda_python_programfiles\\lib\\site-packages (from matplotlib->wordcloud) (4.25.0)\n",
      "Requirement already satisfied: kiwisolver>=1.0.1 in e:\\anaconda_python_programfiles\\lib\\site-packages (from matplotlib->wordcloud) (1.4.2)\n",
      "Requirement already satisfied: packaging>=20.0 in e:\\anaconda_python_programfiles\\lib\\site-packages (from matplotlib->wordcloud) (21.3)\n",
      "Requirement already satisfied: pyparsing>=2.2.1 in e:\\anaconda_python_programfiles\\lib\\site-packages (from matplotlib->wordcloud) (3.0.9)\n",
      "Requirement already satisfied: python-dateutil>=2.7 in e:\\anaconda_python_programfiles\\lib\\site-packages (from matplotlib->wordcloud) (2.8.2)\n",
      "Requirement already satisfied: six>=1.5 in e:\\anaconda_python_programfiles\\lib\\site-packages (from python-dateutil>=2.7->matplotlib->wordcloud) (1.15.0)\n",
      "Installing collected packages: wordcloud\n",
      "Successfully installed wordcloud-1.9.2\n",
      "Note: you may need to restart the kernel to use updated packages.\n"
     ]
    },
    {
     "name": "stderr",
     "output_type": "stream",
     "text": [
      "WARNING: Ignoring invalid distribution -umpy (e:\\anaconda_python_programfiles\\lib\\site-packages)\n",
      "WARNING: Ignoring invalid distribution -umpy (e:\\anaconda_python_programfiles\\lib\\site-packages)\n"
     ]
    }
   ],
   "source": [
    "pip install wordcloud"
   ]
  },
  {
   "cell_type": "code",
   "execution_count": 59,
   "id": "6d09b0e9",
   "metadata": {},
   "outputs": [],
   "source": [
    "from wordcloud import WordCloud"
   ]
  },
  {
   "cell_type": "code",
   "execution_count": 64,
   "id": "ac170ca2",
   "metadata": {},
   "outputs": [],
   "source": [
    "word =WordCloud(width= 1000, height=600, max_words=25)\n",
    "notconverted = word.generate(crm[crm[\"Status \"]==1][\"df\"].str.cat(sep=\" \"))\n",
    "converted = word.generate(crm[crm[\"Status \"]==0][\"df\"].str.cat(sep=\" \"))"
   ]
  },
  {
   "cell_type": "code",
   "execution_count": 66,
   "id": "c3bfed0d",
   "metadata": {},
   "outputs": [
    {
     "data": {
      "image/png": "[encoded data removed]",
      "text/plain": [
       "<Figure size 900x450 with 1 Axes>"
      ]
     },
     "metadata": {},
     "output_type": "display_data"
    }
   ],
   "source": [
    "plt.figure(figsize=(10,5),dpi=90)\n",
    "plt.imshow(notconverted)\n",
    "plt.show()"
   ]
  },
  {
   "cell_type": "code",
   "execution_count": 67,
   "id": "9f34a7f6",
   "metadata": {},
   "outputs": [
    {
     "data": {
      "image/png": "[encoded data removed]",
      "text/plain": [
       "<Figure size 900x450 with 1 Axes>"
      ]
     },
     "metadata": {},
     "output_type": "display_data"
    }
   ],
   "source": [
    "plt.figure(figsize=(10,5),dpi=90)\n",
    "plt.imshow(converted)\n",
    "plt.show()"
   ]
  },
  {
   "cell_type": "code",
   "execution_count": 41,
   "id": "efa41b6c",
   "metadata": {},
   "outputs": [],
   "source": [
    "### Task 1 (topic modeling)\n",
    "from sklearn.feature_extraction.text import CountVectorizer,TfidfVectorizer \n",
    "cv = CountVectorizer(max_features=500, ngram_range=(2,2))"
   ]
  },
  {
   "cell_type": "code",
   "execution_count": 42,
   "id": "aef25ccb",
   "metadata": {},
   "outputs": [],
   "source": [
    "vector_txt = cv.fit_transform(crm_upsample[\"df\"])"
   ]
  },
  {
   "cell_type": "code",
   "execution_count": 43,
   "id": "f1f27556",
   "metadata": {},
   "outputs": [],
   "source": [
    "from sklearn.decomposition import LatentDirichletAllocation\n",
    "lda_model = LatentDirichletAllocation(n_components=2,learning_method='online',random_state=11,max_iter=5)\n",
    "lda_top = lda_model.fit_transform(vector_txt)"
   ]
  },
  {
   "cell_type": "code",
   "execution_count": 44,
   "id": "d1970d31",
   "metadata": {},
   "outputs": [
    {
     "name": "stdout",
     "output_type": "stream",
     "text": [
      "Document 0: \n",
      "Topic  0 :  18.477435711076602 %\n",
      "Topic  1 :  81.52256428892339 %\n"
     ]
    }
   ],
   "source": [
    "print(\"Document 0: \")\n",
    "for i,topic in enumerate(lda_top[0]):\n",
    "  print(\"Topic \",i,\": \",topic*100,\"%\")"
   ]
  },
  {
   "cell_type": "code",
   "execution_count": 45,
   "id": "03dcb2d9",
   "metadata": {},
   "outputs": [
    {
     "data": {
      "text/plain": [
       "array([0.18477436, 0.81522564])"
      ]
     },
     "execution_count": 45,
     "metadata": {},
     "output_type": "execute_result"
    }
   ],
   "source": [
    "lda_top[0]"
   ]
  },
  {
   "cell_type": "code",
   "execution_count": 46,
   "id": "2a64c22d",
   "metadata": {},
   "outputs": [
    {
     "name": "stderr",
     "output_type": "stream",
     "text": [
      "E:\\Anaconda_python_programfiles\\lib\\site-packages\\sklearn\\utils\\deprecation.py:87: FutureWarning: Function get_feature_names is deprecated; get_feature_names is deprecated in 1.0 and will be removed in 1.2. Please use get_feature_names_out instead.\n",
      "  warnings.warn(msg, category=FutureWarning)\n"
     ]
    }
   ],
   "source": [
    "\n",
    "#Let us check what are the top words that comprise the topics. This would give us a view of what defines each of these topics\n",
    "topics = dict()\n",
    "vocab = cv.get_feature_names()\n",
    "for i, comp in enumerate(lda_model.components_):\n",
    "     vocab_comp = zip(vocab, comp)\n",
    "     sorted_words = sorted(vocab_comp, key= lambda x:x[1], reverse=True)[:9]\n",
    "     tp = \"Topic \"+str(i)+\": \"\n",
    "     topics[tp] = []\n",
    "     for t in sorted_words:\n",
    "       topics[tp].append(t[0])\n",
    "      "
   ]
  },
  {
   "cell_type": "code",
   "execution_count": 47,
   "id": "cfc141f9",
   "metadata": {},
   "outputs": [
    {
     "name": "stdout",
     "output_type": "stream",
     "text": [
      "Topic 0:  : ['cut call', 'get back', 'rnr call', 'share detail', 'call disconnected', 'iam busy', 'detail shrd', 'call rnr', 'busy call']\n",
      "Topic 1:  : ['rnr rnr', 'shared detail', 'share detail', 'detail shared', 'detail rnr', 'rnr shared', 'coverage area', 'need call', 'call pm']\n"
     ]
    }
   ],
   "source": [
    "for k,v in topics.items():\n",
    "  print(f\"{k} : {v}\")"
   ]
  },
  {
   "cell_type": "code",
   "execution_count": 48,
   "id": "13d7277d",
   "metadata": {},
   "outputs": [],
   "source": [
    "\n",
    "def topic_model():\n",
    "    user_messages = input(\"Enter your messages: \")\n",
    "    x = preprocessing(user_messages)\n",
    "    x = cv.transform([x])\n",
    "    lda_x = lda_model.transform(x)\n",
    "    tpic = []\n",
    "    tpc = lambda x : \"not interested\" if x == 0 else \"interested\"\n",
    "    for i,topic in enumerate(lda_x[0]):\n",
    "        print(\"Topic \",i,\": \",topic*100,\"%\")\n",
    "        tpc_name = tpc(i)\n",
    "        prc = topic*100\n",
    "        tpic.append([tpc_name,prc])\n",
    "    return tpic"
   ]
  },
  {
   "cell_type": "code",
   "execution_count": 49,
   "id": "b918aeb8",
   "metadata": {},
   "outputs": [
    {
     "name": "stdout",
     "output_type": "stream",
     "text": [
      "7/8/17(Surendra):RNR 8/8/17(Surendra):i will get back 16/8/17(Surendra):RNR\n",
      "0\n"
     ]
    }
   ],
   "source": [
    "print(crm[\"Status information\"][40])\n",
    "print(crm[\"Status \"][40])"
   ]
  },
  {
   "cell_type": "code",
   "execution_count": 50,
   "id": "ec67b599",
   "metadata": {},
   "outputs": [
    {
     "name": "stdout",
     "output_type": "stream",
     "text": [
      "Enter your messages: 7/8/17(Surendra):RNR 8/8/17(Surendra):i will get back 16/8/17(Surendra):RNR 0\n",
      "Topic  0 :  87.38500662186232 %\n",
      "Topic  1 :  12.614993378137685 %\n"
     ]
    },
    {
     "data": {
      "text/plain": [
       "[['not interested', 87.38500662186232], ['interested', 12.614993378137685]]"
      ]
     },
     "execution_count": 50,
     "metadata": {},
     "output_type": "execute_result"
    }
   ],
   "source": [
    "topic_model()"
   ]
  },
  {
   "cell_type": "code",
   "execution_count": 68,
   "id": "c5a34e2f",
   "metadata": {},
   "outputs": [],
   "source": [
    "### classification modeling"
   ]
  },
  {
   "cell_type": "code",
   "execution_count": 69,
   "id": "46cc948e",
   "metadata": {},
   "outputs": [],
   "source": [
    "tf = TfidfVectorizer(max_features=700)\n",
    "vector_txt1 = tf.fit_transform(crm_upsample[\"df\"])"
   ]
  },
  {
   "cell_type": "code",
   "execution_count": 70,
   "id": "28bfbdf9",
   "metadata": {},
   "outputs": [
    {
     "data": {
      "text/plain": [
       "(1429, 700)"
      ]
     },
     "execution_count": 70,
     "metadata": {},
     "output_type": "execute_result"
    }
   ],
   "source": [
    "vector_txt1.shape"
   ]
  },
  {
   "cell_type": "code",
   "execution_count": 71,
   "id": "a11d8ade",
   "metadata": {},
   "outputs": [],
   "source": [
    "#split the data\n",
    "X=vector_txt1.toarray()\n",
    "y=crm_upsample[\"Status \"]\n"
   ]
  },
  {
   "cell_type": "code",
   "execution_count": 72,
   "id": "4cc1575f",
   "metadata": {},
   "outputs": [
    {
     "name": "stdout",
     "output_type": "stream",
     "text": [
      "(1143, 700)\n",
      "(286, 700)\n",
      "(1143,)\n",
      "(286,)\n"
     ]
    }
   ],
   "source": [
    "#train,test split\n",
    "from sklearn.model_selection import train_test_split\n",
    "X_train, X_test, y_train,y_test=train_test_split(X,y, test_size=0.2, random_state=20)\n",
    "for i in [X_train,X_test,y_train,y_test]:\n",
    "    print(i.shape)"
   ]
  },
  {
   "cell_type": "code",
   "execution_count": 73,
   "id": "590add78",
   "metadata": {},
   "outputs": [],
   "source": [
    "from sklearn.metrics import confusion_matrix, classification_report,accuracy_score, precision_score\n",
    "from sklearn.naive_bayes import BernoulliNB, MultinomialNB, GaussianNB\n",
    "from sklearn.svm import SVC\n",
    "from sklearn.ensemble import RandomForestClassifier, AdaBoostClassifier, ExtraTreesClassifier, GradientBoostingClassifier\n",
    "from sklearn.linear_model import LogisticRegression\n"
   ]
  },
  {
   "cell_type": "code",
   "execution_count": 74,
   "id": "3db90b81",
   "metadata": {},
   "outputs": [],
   "source": [
    "results=dict()\n",
    "results[\"Algorithm\"]=[]\n",
    "results[\"Accuracy\"]=[]\n",
    "results[\"Precision\"]=[]"
   ]
  },
  {
   "cell_type": "code",
   "execution_count": 75,
   "id": "e39cfd48",
   "metadata": {},
   "outputs": [
    {
     "name": "stdout",
     "output_type": "stream",
     "text": [
      "Algo: BernoulliNB()\n",
      "acc: 0.7867132867132867\n",
      "\n",
      "-------------------------------------------------------\n",
      "[[ 82  40]\n",
      " [ 21 143]]\n",
      "\n",
      "-------------------------------------------------------\n",
      "              precision    recall  f1-score   support\n",
      "\n",
      "           0       0.80      0.67      0.73       122\n",
      "           1       0.78      0.87      0.82       164\n",
      "\n",
      "    accuracy                           0.79       286\n",
      "   macro avg       0.79      0.77      0.78       286\n",
      "weighted avg       0.79      0.79      0.78       286\n",
      "\n",
      "\n",
      "Algo: MultinomialNB()\n",
      "acc: 0.8006993006993007\n",
      "\n",
      "-------------------------------------------------------\n",
      "[[ 81  41]\n",
      " [ 16 148]]\n",
      "\n",
      "-------------------------------------------------------\n",
      "              precision    recall  f1-score   support\n",
      "\n",
      "           0       0.84      0.66      0.74       122\n",
      "           1       0.78      0.90      0.84       164\n",
      "\n",
      "    accuracy                           0.80       286\n",
      "   macro avg       0.81      0.78      0.79       286\n",
      "weighted avg       0.81      0.80      0.80       286\n",
      "\n",
      "\n",
      "Algo: GaussianNB()\n",
      "acc: 0.7097902097902098\n",
      "\n",
      "-------------------------------------------------------\n",
      "[[122   0]\n",
      " [ 83  81]]\n",
      "\n",
      "-------------------------------------------------------\n",
      "              precision    recall  f1-score   support\n",
      "\n",
      "           0       0.60      1.00      0.75       122\n",
      "           1       1.00      0.49      0.66       164\n",
      "\n",
      "    accuracy                           0.71       286\n",
      "   macro avg       0.80      0.75      0.70       286\n",
      "weighted avg       0.83      0.71      0.70       286\n",
      "\n",
      "\n"
     ]
    }
   ],
   "source": [
    "for i in [BernoulliNB(), MultinomialNB(), GaussianNB()]:\n",
    "    model = i.fit(X_train, y_train)\n",
    "    y_pred = model.predict(X_test)\n",
    "    acc = accuracy_score(y_test, y_pred)\n",
    "    con_m = confusion_matrix(y_test, y_pred)\n",
    "    c_r = classification_report(y_test, y_pred)\n",
    "    p_s = precision_score(y_test, y_pred)\n",
    "    print(f\"Algo: {i}\")\n",
    "    print(f\"acc: {acc}\\n\")\n",
    "    print(\"-\"*55)\n",
    "    print(f\"{con_m}\\n\")\n",
    "    print(\"-\"*55)\n",
    "    print(f\"{c_r}\\n\")\n",
    "    results[\"Algorithm\"].append(i)\n",
    "    results[\"Accuracy\"].append(acc)\n",
    "    results[\"Precision\"].append(p_s)"
   ]
  },
  {
   "cell_type": "code",
   "execution_count": 76,
   "id": "343de7dd",
   "metadata": {},
   "outputs": [
    {
     "name": "stdout",
     "output_type": "stream",
     "text": [
      "Algo: ExtraTreesClassifier()\n",
      "acc: 0.9475524475524476\n",
      "\n",
      "-------------------------------------------------------\n",
      "[[121   1]\n",
      " [ 14 150]]\n",
      "\n",
      "-------------------------------------------------------\n",
      "              precision    recall  f1-score   support\n",
      "\n",
      "           0       0.90      0.99      0.94       122\n",
      "           1       0.99      0.91      0.95       164\n",
      "\n",
      "    accuracy                           0.95       286\n",
      "   macro avg       0.94      0.95      0.95       286\n",
      "weighted avg       0.95      0.95      0.95       286\n",
      "\n",
      "\n",
      "Algo: RandomForestClassifier()\n",
      "acc: 0.9370629370629371\n",
      "\n",
      "-------------------------------------------------------\n",
      "[[121   1]\n",
      " [ 17 147]]\n",
      "\n",
      "-------------------------------------------------------\n",
      "              precision    recall  f1-score   support\n",
      "\n",
      "           0       0.88      0.99      0.93       122\n",
      "           1       0.99      0.90      0.94       164\n",
      "\n",
      "    accuracy                           0.94       286\n",
      "   macro avg       0.94      0.94      0.94       286\n",
      "weighted avg       0.94      0.94      0.94       286\n",
      "\n",
      "\n",
      "Algo: AdaBoostClassifier()\n",
      "acc: 0.7622377622377622\n",
      "\n",
      "-------------------------------------------------------\n",
      "[[ 93  29]\n",
      " [ 39 125]]\n",
      "\n",
      "-------------------------------------------------------\n",
      "              precision    recall  f1-score   support\n",
      "\n",
      "           0       0.70      0.76      0.73       122\n",
      "           1       0.81      0.76      0.79       164\n",
      "\n",
      "    accuracy                           0.76       286\n",
      "   macro avg       0.76      0.76      0.76       286\n",
      "weighted avg       0.77      0.76      0.76       286\n",
      "\n",
      "\n",
      "Algo: GradientBoostingClassifier()\n",
      "acc: 0.8321678321678322\n",
      "\n",
      "-------------------------------------------------------\n",
      "[[ 97  25]\n",
      " [ 23 141]]\n",
      "\n",
      "-------------------------------------------------------\n",
      "              precision    recall  f1-score   support\n",
      "\n",
      "           0       0.81      0.80      0.80       122\n",
      "           1       0.85      0.86      0.85       164\n",
      "\n",
      "    accuracy                           0.83       286\n",
      "   macro avg       0.83      0.83      0.83       286\n",
      "weighted avg       0.83      0.83      0.83       286\n",
      "\n",
      "\n"
     ]
    }
   ],
   "source": [
    "for i in [ExtraTreesClassifier(), RandomForestClassifier(), AdaBoostClassifier(), GradientBoostingClassifier()]:\n",
    "    model = i.fit(X_train, y_train)\n",
    "    y_pred = model.predict(X_test)\n",
    "    acc = accuracy_score(y_test, y_pred)\n",
    "    con_m = confusion_matrix(y_test, y_pred)\n",
    "    c_r = classification_report(y_test, y_pred)\n",
    "    p_s = precision_score(y_test, y_pred)\n",
    "    print(f\"Algo: {i}\")\n",
    "    print(f\"acc: {acc}\\n\")\n",
    "    print(\"-\"*55)\n",
    "    print(f\"{con_m}\\n\")\n",
    "    print(\"-\"*55)\n",
    "    print(f\"{c_r}\\n\")\n",
    "    results[\"Algorithm\"].append(i)\n",
    "    results[\"Accuracy\"].append(acc)\n",
    "    results[\"Precision\"].append(p_s)"
   ]
  },
  {
   "cell_type": "code",
   "execution_count": 77,
   "id": "a4204d8f",
   "metadata": {},
   "outputs": [
    {
     "name": "stdout",
     "output_type": "stream",
     "text": [
      "Algo: SVC()\n",
      "acc: 0.9265734265734266\n",
      "\n",
      "-------------------------------------------------------\n",
      "[[111  11]\n",
      " [ 10 154]]\n",
      "\n",
      "-------------------------------------------------------\n",
      "              precision    recall  f1-score   support\n",
      "\n",
      "           0       0.92      0.91      0.91       122\n",
      "           1       0.93      0.94      0.94       164\n",
      "\n",
      "    accuracy                           0.93       286\n",
      "   macro avg       0.93      0.92      0.92       286\n",
      "weighted avg       0.93      0.93      0.93       286\n",
      "\n",
      "\n",
      "Algo: LogisticRegression(max_iter=1000)\n",
      "acc: 0.8041958041958042\n",
      "\n",
      "-------------------------------------------------------\n",
      "[[ 90  32]\n",
      " [ 24 140]]\n",
      "\n",
      "-------------------------------------------------------\n",
      "              precision    recall  f1-score   support\n",
      "\n",
      "           0       0.79      0.74      0.76       122\n",
      "           1       0.81      0.85      0.83       164\n",
      "\n",
      "    accuracy                           0.80       286\n",
      "   macro avg       0.80      0.80      0.80       286\n",
      "weighted avg       0.80      0.80      0.80       286\n",
      "\n",
      "\n"
     ]
    }
   ],
   "source": [
    "for i in [SVC(), LogisticRegression(max_iter=1000)]:\n",
    "  model = i.fit(X_train, y_train)\n",
    "  y_pred = model.predict(X_test)\n",
    "  acc = accuracy_score(y_test, y_pred)\n",
    "  con_m = confusion_matrix(y_test, y_pred)\n",
    "  c_r = classification_report(y_test, y_pred)\n",
    "  p_s = precision_score(y_test, y_pred)\n",
    "  print(f\"Algo: {i}\")\n",
    "  print(f\"acc: {acc}\\n\")\n",
    "  print(\"-\"*55)\n",
    "  print(f\"{con_m}\\n\")\n",
    "  print(\"-\"*55)\n",
    "  print(f\"{c_r}\\n\")\n",
    "  results[\"Algorithm\"].append(i)\n",
    "  results[\"Accuracy\"].append(acc)\n",
    "  results[\"Precision\"].append(p_s)"
   ]
  },
  {
   "cell_type": "code",
   "execution_count": 78,
   "id": "5a9bf557",
   "metadata": {},
   "outputs": [
    {
     "data": {
      "text/html": [
       "<div>\n",
       "<style scoped>\n",
       "    .dataframe tbody tr th:only-of-type {\n",
       "        vertical-align: middle;\n",
       "    }\n",
       "\n",
       "    .dataframe tbody tr th {\n",
       "        vertical-align: top;\n",
       "    }\n",
       "\n",
       "    .dataframe thead th {\n",
       "        text-align: right;\n",
       "    }\n",
       "</style>\n",
       "<table border=\"1\" class=\"dataframe\">\n",
       "  <thead>\n",
       "    <tr style=\"text-align: right;\">\n",
       "      <th></th>\n",
       "      <th>Algorithm</th>\n",
       "      <th>Accuracy</th>\n",
       "      <th>Precision</th>\n",
       "    </tr>\n",
       "  </thead>\n",
       "  <tbody>\n",
       "    <tr>\n",
       "      <th>0</th>\n",
       "      <td>BernoulliNB()</td>\n",
       "      <td>0.786713</td>\n",
       "      <td>0.781421</td>\n",
       "    </tr>\n",
       "    <tr>\n",
       "      <th>1</th>\n",
       "      <td>MultinomialNB()</td>\n",
       "      <td>0.800699</td>\n",
       "      <td>0.783069</td>\n",
       "    </tr>\n",
       "    <tr>\n",
       "      <th>2</th>\n",
       "      <td>GaussianNB()</td>\n",
       "      <td>0.709790</td>\n",
       "      <td>1.000000</td>\n",
       "    </tr>\n",
       "    <tr>\n",
       "      <th>3</th>\n",
       "      <td>(ExtraTreeClassifier(random_state=2051546839),...</td>\n",
       "      <td>0.947552</td>\n",
       "      <td>0.993377</td>\n",
       "    </tr>\n",
       "    <tr>\n",
       "      <th>4</th>\n",
       "      <td>(DecisionTreeClassifier(max_features='auto', r...</td>\n",
       "      <td>0.937063</td>\n",
       "      <td>0.993243</td>\n",
       "    </tr>\n",
       "    <tr>\n",
       "      <th>5</th>\n",
       "      <td>(DecisionTreeClassifier(max_depth=1, random_st...</td>\n",
       "      <td>0.762238</td>\n",
       "      <td>0.811688</td>\n",
       "    </tr>\n",
       "    <tr>\n",
       "      <th>6</th>\n",
       "      <td>([DecisionTreeRegressor(criterion='friedman_ms...</td>\n",
       "      <td>0.832168</td>\n",
       "      <td>0.849398</td>\n",
       "    </tr>\n",
       "    <tr>\n",
       "      <th>7</th>\n",
       "      <td>SVC()</td>\n",
       "      <td>0.926573</td>\n",
       "      <td>0.933333</td>\n",
       "    </tr>\n",
       "    <tr>\n",
       "      <th>8</th>\n",
       "      <td>LogisticRegression(max_iter=1000)</td>\n",
       "      <td>0.804196</td>\n",
       "      <td>0.813953</td>\n",
       "    </tr>\n",
       "  </tbody>\n",
       "</table>\n",
       "</div>"
      ],
      "text/plain": [
       "                                           Algorithm  Accuracy  Precision\n",
       "0                                      BernoulliNB()  0.786713   0.781421\n",
       "1                                    MultinomialNB()  0.800699   0.783069\n",
       "2                                       GaussianNB()  0.709790   1.000000\n",
       "3  (ExtraTreeClassifier(random_state=2051546839),...  0.947552   0.993377\n",
       "4  (DecisionTreeClassifier(max_features='auto', r...  0.937063   0.993243\n",
       "5  (DecisionTreeClassifier(max_depth=1, random_st...  0.762238   0.811688\n",
       "6  ([DecisionTreeRegressor(criterion='friedman_ms...  0.832168   0.849398\n",
       "7                                              SVC()  0.926573   0.933333\n",
       "8                  LogisticRegression(max_iter=1000)  0.804196   0.813953"
      ]
     },
     "execution_count": 78,
     "metadata": {},
     "output_type": "execute_result"
    }
   ],
   "source": [
    "pd.DataFrame(results)"
   ]
  },
  {
   "cell_type": "markdown",
   "id": "75e2c4a0",
   "metadata": {},
   "source": [
    "Among these models, the GaussianNB() model has the highest precision score of 1.00. This means that it has the highest accuracy of positive predictions compared to the other models. Therefore, based on the provided precision scores, the GaussianNB() model would be the best choice in terms of precision"
   ]
  },
  {
   "cell_type": "code",
   "execution_count": 79,
   "id": "3e1fd685",
   "metadata": {},
   "outputs": [],
   "source": [
    "ml = GaussianNB().fit(X_train, y_train)"
   ]
  },
  {
   "cell_type": "code",
   "execution_count": 80,
   "id": "24f4dbed",
   "metadata": {},
   "outputs": [],
   "source": [
    "#task 2\n",
    "def Status(user):\n",
    "  x = user\n",
    "  x = preprocessing(x)\n",
    "  x = tf.transform([x])\n",
    "  x = ml.predict(x.toarray())\n",
    "  if x == 1:\n",
    "    return \"Not Converted\"\n",
    "  else:\n",
    "    return \"Converted\""
   ]
  },
  {
   "cell_type": "code",
   "execution_count": 90,
   "id": "69c9c474",
   "metadata": {},
   "outputs": [
    {
     "name": "stdout",
     "output_type": "stream",
     "text": [
      "8|aUg|moHan:intrstd 9|aUg|moHan:intrstd for ML mrg 8.30 12|aUg|moHan:cal back some othr day 16|AuG|moHan:call some othr day 18|AuG|moHan:rnr\n",
      "------------------------------------------------------------------------------------------------------------------------\n",
      "0\n"
     ]
    }
   ],
   "source": [
    "print(crm[\"Status information\"][15])\n",
    "print('-'*120)\n",
    "print(crm[\"Status \"][15])"
   ]
  },
  {
   "cell_type": "code",
   "execution_count": 91,
   "id": "99bf74fd",
   "metadata": {},
   "outputs": [
    {
     "data": {
      "text/plain": [
       "'8|aUg|moHan:intrstd 9|aUg|moHan:intrstd for ML mrg 8.30 12|aUg|moHan:cal back some othr day 16|AuG|moHan:call some othr day 18|AuG|moHan:rnr'"
      ]
     },
     "execution_count": 91,
     "metadata": {},
     "output_type": "execute_result"
    }
   ],
   "source": [
    "crm[\"Status information\"][15]"
   ]
  },
  {
   "cell_type": "code",
   "execution_count": 92,
   "id": "6004ff53",
   "metadata": {},
   "outputs": [
    {
     "name": "stdout",
     "output_type": "stream",
     "text": [
      "8|aUg|moHan:intrstd 9|aUg|moHan:intrstd for ML mrg 8.30 12|aUg|moHan:cal back some othr day 16|AuG|moHan:call some othr day 18|AuG|moHan:rnr\n"
     ]
    },
    {
     "data": {
      "text/plain": [
       "'Converted'"
      ]
     },
     "execution_count": 92,
     "metadata": {},
     "output_type": "execute_result"
    }
   ],
   "source": [
    "messages1 = input()\n",
    "Status(messages1)"
   ]
  },
  {
   "cell_type": "markdown",
   "id": "c3d4abfb",
   "metadata": {},
   "source": [
    "### Deployment"
   ]
  },
  {
   "cell_type": "code",
   "execution_count": 95,
   "id": "26116b6e",
   "metadata": {},
   "outputs": [],
   "source": [
    "### pickle files\n",
    "import pickle\n",
    "pickle.dump(cv,open(\"cv_vectorizer.pkl\",\"wb\"))\n",
    "pickle.dump(lda_model, open(\"lda_model.pkl\",\"wb\"))\n",
    "pickle.dump(stop_words,open(\"stop_words.pkl\",\"wb\"))\n",
    "pickle.dump(tf, open(\"tf_vectorizer.pkl\",\"wb\"))\n",
    "pickle.dump(ml, open(\"GuassianNB.pkl\",\"wb\"))"
   ]
  },
  {
   "cell_type": "code",
   "execution_count": null,
   "id": "e5ea2ce1",
   "metadata": {},
   "outputs": [],
   "source": []
  }
 ],
 "metadata": {
  "kernelspec": {
   "display_name": "Python 3 (ipykernel)",
   "language": "python",
   "name": "python3"
  },
  "language_info": {
   "codemirror_mode": {
    "name": "ipython",
    "version": 3
   },
   "file_extension": ".py",
   "mimetype": "text/x-python",
   "name": "python",
   "nbconvert_exporter": "python",
   "pygments_lexer": "ipython3",
   "version": "3.9.13"
  }
 },
 "nbformat": 4,
 "nbformat_minor": 5
}
